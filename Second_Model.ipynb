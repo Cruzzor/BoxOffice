{
 "cells": [
  {
   "cell_type": "code",
   "execution_count": 1,
   "metadata": {},
   "outputs": [],
   "source": [
    "import pandas as pd\n",
    "import numpy as np\n",
    "import matplotlib.pyplot as plt\n",
    "\n",
    "# Pretty display for notebooks\n",
    "%matplotlib inline\n",
    "from pprint import pprint\n",
    "\n",
    "from sklearn.linear_model import LinearRegression, Lasso, Ridge\n",
    "from sklearn.svm import SVR\n",
    "from sklearn.ensemble import RandomForestRegressor, GradientBoostingRegressor\n",
    "\n",
    "from sklearn.model_selection import train_test_split, learning_curve, cross_validate, GridSearchCV\n",
    "from sklearn.metrics import mean_squared_log_error, make_scorer\n",
    "\n",
    "from sklearn.preprocessing import RobustScaler, MinMaxScaler, PolynomialFeatures\n",
    "from sklearn.feature_selection import f_regression, SelectKBest\n",
    "\n",
    "#from common.CommonFunctions import train_and_eval\n",
    "\n",
    "import warnings\n",
    "warnings.simplefilter(action='ignore', category=FutureWarning)"
   ]
  },
  {
   "cell_type": "code",
   "execution_count": 2,
   "metadata": {},
   "outputs": [],
   "source": [
    "flo_columns = [\n",
    "    'id',\n",
    "    'Age',\n",
    "    'hasStar',\n",
    "    'NumStar',\n",
    "    'hashomepage',\n",
    "    'isinCollection',\n",
    "    'Action',\n",
    "    'Family',\n",
    "    'Adventure',\n",
    "    'History',\n",
    "    'Drama',\n",
    "    'Science Fiction',\n",
    "    'Romance',\n",
    "    'Fantasy',\n",
    "    'Horror',\n",
    "    'Animation',\n",
    "    'numberGenres']\n",
    "\n",
    "data = pd.read_csv('../data/train.csv')\n",
    "flo_features = pd.read_csv('./exported_features/all_features.csv')[flo_columns]\n",
    "marcel_keywords = pd.read_csv('../data/marcel_features.csv').drop('Unnamed: 0', axis=1)\n",
    "\n",
    "data['popularity'] = np.log1p(data.popularity)\n",
    "data['budget'] = np.log1p(data.budget)\n",
    "data = data.merge(marcel_keywords, on=['id'], how='left').merge(flo_features, on=['id'], how='left')\n",
    "data.runtime = data.runtime.fillna(np.mean(data.runtime))\n",
    "\n",
    "features = list(flo_features.columns) + ['popularity', 'budget', 'has_top_keyword', 'runtime']\n",
    "features.remove('id')\n",
    "\n",
    "features_df = data[features]\n",
    "target = data.revenue\n",
    "\n",
    "X_train, X_test, y_train, y_test = train_test_split(features_df, target, test_size=0.2, random_state=42)"
   ]
  },
  {
   "cell_type": "code",
   "execution_count": null,
   "metadata": {},
   "outputs": [],
   "source": []
  },
  {
   "cell_type": "code",
   "execution_count": 3,
   "metadata": {},
   "outputs": [],
   "source": [
    "poly = PolynomialFeatures(degree=2, interaction_only=True)\n",
    "X_trainPoly = poly.fit_transform(X_train)\n",
    "#poly.get_feature_names()"
   ]
  },
  {
   "cell_type": "code",
   "execution_count": 28,
   "metadata": {},
   "outputs": [
    {
     "name": "stderr",
     "output_type": "stream",
     "text": [
      "C:\\Users\\Dennis\\Anaconda3\\lib\\site-packages\\sklearn\\feature_selection\\univariate_selection.py:299: RuntimeWarning: divide by zero encountered in true_divide\n",
      "  corr /= X_norms\n",
      "C:\\Users\\Dennis\\Anaconda3\\lib\\site-packages\\sklearn\\feature_selection\\univariate_selection.py:299: RuntimeWarning: invalid value encountered in true_divide\n",
      "  corr /= X_norms\n",
      "C:\\Users\\Dennis\\Anaconda3\\lib\\site-packages\\sklearn\\feature_selection\\univariate_selection.py:304: RuntimeWarning: invalid value encountered in true_divide\n",
      "  F = corr ** 2 / (1 - corr ** 2) * degrees_of_freedom\n",
      "C:\\Users\\Dennis\\Anaconda3\\lib\\site-packages\\scipy\\stats\\_distn_infrastructure.py:879: RuntimeWarning: invalid value encountered in greater\n",
      "  return (self.a < x) & (x < self.b)\n",
      "C:\\Users\\Dennis\\Anaconda3\\lib\\site-packages\\scipy\\stats\\_distn_infrastructure.py:879: RuntimeWarning: invalid value encountered in less\n",
      "  return (self.a < x) & (x < self.b)\n",
      "C:\\Users\\Dennis\\Anaconda3\\lib\\site-packages\\scipy\\stats\\_distn_infrastructure.py:1821: RuntimeWarning: invalid value encountered in less_equal\n",
      "  cond2 = cond0 & (x <= self.a)\n"
     ]
    },
    {
     "data": {
      "text/plain": [
       "numpy.ndarray"
      ]
     },
     "execution_count": 28,
     "metadata": {},
     "output_type": "execute_result"
    }
   ],
   "source": [
    "test = SelectKBest(score_func=f_regression, k=10)\n",
    "fit = test.fit(X_trainPoly, np.log1p(y_train))\n",
    "cols = test.get_support(indices=True)\n",
    "cols"
   ]
  },
  {
   "cell_type": "code",
   "execution_count": 18,
   "metadata": {},
   "outputs": [],
   "source": [
    "gbr = GradientBoostingRegressor(alpha=0.9, criterion='friedman_mse', init=None,\n",
    "              learning_rate=0.01, loss='ls', max_depth=5, max_features=None,\n",
    "              max_leaf_nodes=None, min_impurity_decrease=0.0,\n",
    "              min_impurity_split=None, min_samples_leaf=1,\n",
    "              min_samples_split=2, min_weight_fraction_leaf=0.0,\n",
    "              n_estimators=400, n_iter_no_change=None, presort='auto',\n",
    "              random_state=None, subsample=1.0, tol=0.0001,\n",
    "              validation_fraction=0.1, verbose=0, warm_start=False)"
   ]
  },
  {
   "cell_type": "code",
   "execution_count": 6,
   "metadata": {},
   "outputs": [
    {
     "data": {
      "text/plain": [
       "GradientBoostingRegressor(alpha=0.9, criterion='friedman_mse', init=None,\n",
       "             learning_rate=0.01, loss='ls', max_depth=5, max_features=None,\n",
       "             max_leaf_nodes=None, min_impurity_decrease=0.0,\n",
       "             min_impurity_split=None, min_samples_leaf=1,\n",
       "             min_samples_split=2, min_weight_fraction_leaf=0.0,\n",
       "             n_estimators=400, n_iter_no_change=None, presort='auto',\n",
       "             random_state=None, subsample=1.0, tol=0.0001,\n",
       "             validation_fraction=0.1, verbose=0, warm_start=False)"
      ]
     },
     "execution_count": 6,
     "metadata": {},
     "output_type": "execute_result"
    }
   ],
   "source": [
    "gbr.fit(X_trainPoly, np.log1p(y_train))"
   ]
  },
  {
   "cell_type": "code",
   "execution_count": 38,
   "metadata": {},
   "outputs": [],
   "source": [
    "def train_and_eval(model, X_train, y_train, scoring):\n",
    "    cv_results = cross_validate(model, \n",
    "                                X_train, \n",
    "                                np.log1p(y_train), \n",
    "                                cv=10, \n",
    "                                scoring=scoring, \n",
    "                                return_train_score=True)\n",
    "    \n",
    "    mean_train = np.mean(cv_results['train_score'])\n",
    "    mean_cv = np.mean(cv_results['test_score'])\n",
    "    std_train = np.std(cv_results['train_score'])\n",
    "    std_cv = np.std(cv_results['test_score'])\n",
    "\n",
    "    result_summary = {\n",
    "        'model': model,\n",
    "        'mean_train_score': mean_train,\n",
    "        'mean_cv_score': mean_cv,\n",
    "        'std_train_score': std_train,\n",
    "        'std_cv_score': std_cv\n",
    "    }\n",
    "    \n",
    "    return result_summary\n",
    "\n",
    "def my_score(y_true, y_pred):\n",
    "    '''\n",
    "    Compute the RMSLE on the actual target values, not the log target\n",
    "    '''\n",
    "    if any(np.expm1(y_pred) < 0):\n",
    "        return np.Infinity\n",
    "    else:\n",
    "        return np.sqrt(mean_squared_log_error(np.expm1(y_true), np.expm1(y_pred)))\n",
    "    \n",
    "scoring_fnc = make_scorer(my_score)"
   ]
  },
  {
   "cell_type": "code",
   "execution_count": 13,
   "metadata": {},
   "outputs": [
    {
     "data": {
      "text/plain": [
       "{'model': GradientBoostingRegressor(alpha=0.9, criterion='friedman_mse', init=None,\n",
       "              learning_rate=0.01, loss='ls', max_depth=5, max_features=None,\n",
       "              max_leaf_nodes=None, min_impurity_decrease=0.0,\n",
       "              min_impurity_split=None, min_samples_leaf=1,\n",
       "              min_samples_split=2, min_weight_fraction_leaf=0.0,\n",
       "              n_estimators=400, n_iter_no_change=None, presort='auto',\n",
       "              random_state=None, subsample=1.0, tol=0.0001,\n",
       "              validation_fraction=0.1, verbose=0, warm_start=False),\n",
       " 'mean_train_score': 1.469543247660877,\n",
       " 'mean_cv_score': 2.1878670019032027,\n",
       " 'std_train_score': 0.03974074562636286,\n",
       " 'std_cv_score': 0.1233845614224436}"
      ]
     },
     "execution_count": 13,
     "metadata": {},
     "output_type": "execute_result"
    }
   ],
   "source": [
    "train_and_eval(gbr, X_trainPoly, y_train, scoring_fnc)"
   ]
  },
  {
   "cell_type": "code",
   "execution_count": 35,
   "metadata": {},
   "outputs": [
    {
     "data": {
      "text/plain": [
       "{'model': GradientBoostingRegressor(alpha=0.9, criterion='friedman_mse', init=None,\n",
       "              learning_rate=0.01, loss='ls', max_depth=5, max_features=None,\n",
       "              max_leaf_nodes=None, min_impurity_decrease=0.0,\n",
       "              min_impurity_split=None, min_samples_leaf=1,\n",
       "              min_samples_split=2, min_weight_fraction_leaf=0.0,\n",
       "              n_estimators=400, n_iter_no_change=None, presort='auto',\n",
       "              random_state=None, subsample=1.0, tol=0.0001,\n",
       "              validation_fraction=0.1, verbose=0, warm_start=False),\n",
       " 'mean_train_score': 1.7346179224467193,\n",
       " 'mean_cv_score': 2.3093188619619056,\n",
       " 'std_train_score': 0.03286869507301123,\n",
       " 'std_cv_score': 0.10146460111778262}"
      ]
     },
     "execution_count": 35,
     "metadata": {},
     "output_type": "execute_result"
    }
   ],
   "source": [
    "train_and_eval(gbr, X_trainPoly[:,cols], y_train, scoring_fnc)"
   ]
  },
  {
   "cell_type": "code",
   "execution_count": 34,
   "metadata": {},
   "outputs": [
    {
     "data": {
      "text/plain": [
       "(2400, 10)"
      ]
     },
     "execution_count": 34,
     "metadata": {},
     "output_type": "execute_result"
    }
   ],
   "source": [
    "X_trainPoly[:,cols]"
   ]
  },
  {
   "cell_type": "code",
   "execution_count": 39,
   "metadata": {},
   "outputs": [
    {
     "data": {
      "text/plain": [
       "{'model': GradientBoostingRegressor(alpha=0.9, criterion='friedman_mse', init=None,\n",
       "              learning_rate=0.01, loss='ls', max_depth=5, max_features=None,\n",
       "              max_leaf_nodes=None, min_impurity_decrease=0.0,\n",
       "              min_impurity_split=None, min_samples_leaf=1,\n",
       "              min_samples_split=2, min_weight_fraction_leaf=0.0,\n",
       "              n_estimators=400, n_iter_no_change=None, presort='auto',\n",
       "              random_state=None, subsample=1.0, tol=0.0001,\n",
       "              validation_fraction=0.1, verbose=0, warm_start=False),\n",
       " 'mean_train_score': 1.5902234888754823,\n",
       " 'mean_cv_score': 2.11629460843733,\n",
       " 'std_train_score': 0.024670699631280078,\n",
       " 'std_cv_score': 0.2260639436159667}"
      ]
     },
     "execution_count": 39,
     "metadata": {},
     "output_type": "execute_result"
    }
   ],
   "source": [
    "train_and_eval(gbr, X_train, y_train, scoring_fnc)"
   ]
  },
  {
   "cell_type": "code",
   "execution_count": null,
   "metadata": {},
   "outputs": [],
   "source": [
    "data exploration categorical vs numeric"
   ]
  }
 ],
 "metadata": {
  "kernelspec": {
   "display_name": "Python 3",
   "language": "python",
   "name": "python3"
  },
  "language_info": {
   "codemirror_mode": {
    "name": "ipython",
    "version": 3
   },
   "file_extension": ".py",
   "mimetype": "text/x-python",
   "name": "python",
   "nbconvert_exporter": "python",
   "pygments_lexer": "ipython3",
   "version": "3.7.1"
  }
 },
 "nbformat": 4,
 "nbformat_minor": 2
}
