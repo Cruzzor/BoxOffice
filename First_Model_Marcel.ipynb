{
 "cells": [
  {
   "cell_type": "code",
   "execution_count": 1,
   "metadata": {},
   "outputs": [],
   "source": [
    "import pandas as pd\n",
    "import numpy as np\n",
    "import matplotlib.pyplot as plt\n",
    "\n",
    "# Pretty display for notebooks\n",
    "%matplotlib inline\n",
    "from pprint import pprint\n",
    "\n",
    "from sklearn.linear_model import LinearRegression\n",
    "from sklearn.ensemble import RandomForestRegressor, GradientBoostingRegressor\n",
    "\n",
    "from sklearn.model_selection import train_test_split, learning_curve, cross_validate, GridSearchCV\n",
    "from sklearn.metrics import mean_squared_log_error, make_scorer\n",
    "\n",
    "import warnings\n",
    "warnings.simplefilter(action='ignore', category=FutureWarning)"
   ]
  },
  {
   "cell_type": "code",
   "execution_count": 2,
   "metadata": {},
   "outputs": [
    {
     "data": {
      "text/plain": [
       "2.2893753446503355"
      ]
     },
     "execution_count": 2,
     "metadata": {},
     "output_type": "execute_result"
    }
   ],
   "source": [
    "data = pd.read_csv('../data/train.csv')\n",
    "flo_genre = pd.read_csv('../data/flo_genre_feature.csv').drop('Unnamed: 0', axis=1)\n",
    "flo_age = pd.read_csv('../data/flo_age_feature.csv').drop('Unnamed: 0', axis=1)\n",
    "marcel_keywords = pd.read_csv('../data/marcel_features.csv').drop('Unnamed: 0', axis=1)\n",
    "\n",
    "data['popularity'] = np.log1p(data.popularity)\n",
    "data = data.merge(flo_genre, on=['id'], how='left').merge(marcel_keywords, on=['id'], how='left').merge(flo_age, on=['id'], how='left')\n",
    "\n",
    "data.runtime = data.runtime.fillna(np.mean(data.runtime))\n",
    "\n",
    "features = list(flo_genre.columns) + ['popularity', 'budget', 'has_top_keyword', 'runtime']\n",
    "features.remove('id')\n",
    "\n",
    "features_df = data[features]\n",
    "target = data.revenue\n",
    "\n",
    "X_train, X_test, y_train, y_test = train_test_split(features_df, target, test_size=0.2, random_state=42)\n",
    "\n",
    "reg = LinearRegression()\n",
    "reg.fit(X_train, np.log1p(y_train))\n",
    "y_pred = np.exp(reg.predict(X_test)) - 1\n",
    "np.sqrt(mean_squared_log_error(y_test, y_pred))"
   ]
  },
  {
   "cell_type": "code",
   "execution_count": 54,
   "metadata": {},
   "outputs": [],
   "source": [
    "# Define own scoring function\n",
    "# because target is actually log(target)\n",
    "def my_score(y_true, y_pred):\n",
    "    '''\n",
    "    Compute the RMSLE on the actual target values, not the log target\n",
    "    '''\n",
    "    if any(np.expm1(y_pred) < 0):\n",
    "        return np.Infinity\n",
    "    else:\n",
    "        return np.sqrt(mean_squared_log_error(np.expm1(y_true), np.expm1(y_pred)))\n",
    "scoring_fnc = make_scorer(my_score)\n",
    "\n",
    "\n",
    "# Define own scoring function\n",
    "# because target is actually log(target)\n",
    "# returns -error, because grid search maximizes the eval metric\n",
    "def my_score_neg(y_true, y_pred):\n",
    "    '''\n",
    "    Compute the RMSLE on the actual target values, not the log target\n",
    "    '''\n",
    "    if any(np.expm1(y_pred) < 0):\n",
    "        return -1 * np.Infinity\n",
    "    else:\n",
    "        return -1 * np.sqrt(mean_squared_log_error(np.expm1(y_true), np.expm1(y_pred)))\n",
    "scoring_fnc_neg = make_scorer(my_score_neg)\n",
    "\n",
    "\n",
    "def train_and_eval(model, X_train, y_train, scoring):\n",
    "    cv_results = cross_validate(model, \n",
    "                                X_train, \n",
    "                                np.log1p(y_train), \n",
    "                                cv=10, \n",
    "                                scoring=scoring, \n",
    "                                return_train_score=True)\n",
    "    \n",
    "    mean_train = np.mean(cv_results['train_score'])\n",
    "    mean_cv = np.mean(cv_results['test_score'])\n",
    "    std_train = np.std(cv_results['train_score'])\n",
    "    std_cv = np.std(cv_results['test_score'])\n",
    "\n",
    "    result_summary = {\n",
    "        'model': model,\n",
    "        'mean_train_score': mean_train,\n",
    "        'mean_cv_score': mean_cv,\n",
    "        'std_train_score': std_train,\n",
    "        'std_cv_score': std_cv\n",
    "    }\n",
    "    \n",
    "    return result_summary"
   ]
  },
  {
   "cell_type": "code",
   "execution_count": 8,
   "metadata": {},
   "outputs": [
    {
     "data": {
      "text/plain": [
       "{'model': LinearRegression(copy_X=True, fit_intercept=True, n_jobs=None,\n",
       "          normalize=False),\n",
       " 'mean_train_score': 2.345453240792612,\n",
       " 'mean_cv_score': 2.372933798657791,\n",
       " 'std_train_score': 0.036715974160531135,\n",
       " 'std_cv_score': 0.14843731942334273}"
      ]
     },
     "execution_count": 8,
     "metadata": {},
     "output_type": "execute_result"
    }
   ],
   "source": [
    "train_and_eval(reg, X_train, y_train)"
   ]
  },
  {
   "cell_type": "markdown",
   "metadata": {},
   "source": [
    "### Learning Curves"
   ]
  },
  {
   "cell_type": "code",
   "execution_count": 9,
   "metadata": {},
   "outputs": [],
   "source": [
    "def plot_learning_curve(estimator, title, X, y, ylim=None, cv=None,\n",
    "                        n_jobs=None, train_sizes=np.linspace(.1, 1.0, 5)):\n",
    "    \"\"\"\n",
    "    Generate a simple plot of the test and training learning curve.\n",
    "\n",
    "    Parameters\n",
    "    ----------\n",
    "    estimator : object type that implements the \"fit\" and \"predict\" methods\n",
    "        An object of that type which is cloned for each validation.\n",
    "\n",
    "    title : string\n",
    "        Title for the chart.\n",
    "\n",
    "    X : array-like, shape (n_samples, n_features)\n",
    "        Training vector, where n_samples is the number of samples and\n",
    "        n_features is the number of features.\n",
    "\n",
    "    y : array-like, shape (n_samples) or (n_samples, n_features), optional\n",
    "        Target relative to X for classification or regression;\n",
    "        None for unsupervised learning.\n",
    "\n",
    "    ylim : tuple, shape (ymin, ymax), optional\n",
    "        Defines minimum and maximum yvalues plotted.\n",
    "\n",
    "    cv : int, cross-validation generator or an iterable, optional\n",
    "        Determines the cross-validation splitting strategy.\n",
    "        Possible inputs for cv are:\n",
    "          - None, to use the default 3-fold cross-validation,\n",
    "          - integer, to specify the number of folds.\n",
    "          - :term:`CV splitter`,\n",
    "          - An iterable yielding (train, test) splits as arrays of indices.\n",
    "\n",
    "        For integer/None inputs, if ``y`` is binary or multiclass,\n",
    "        :class:`StratifiedKFold` used. If the estimator is not a classifier\n",
    "        or if ``y`` is neither binary nor multiclass, :class:`KFold` is used.\n",
    "\n",
    "        Refer :ref:`User Guide <cross_validation>` for the various\n",
    "        cross-validators that can be used here.\n",
    "\n",
    "    n_jobs : int or None, optional (default=None)\n",
    "        Number of jobs to run in parallel.\n",
    "        ``None`` means 1 unless in a :obj:`joblib.parallel_backend` context.\n",
    "        ``-1`` means using all processors. See :term:`Glossary <n_jobs>`\n",
    "        for more details.\n",
    "\n",
    "    train_sizes : array-like, shape (n_ticks,), dtype float or int\n",
    "        Relative or absolute numbers of training examples that will be used to\n",
    "        generate the learning curve. If the dtype is float, it is regarded as a\n",
    "        fraction of the maximum size of the training set (that is determined\n",
    "        by the selected validation method), i.e. it has to be within (0, 1].\n",
    "        Otherwise it is interpreted as absolute sizes of the training sets.\n",
    "        Note that for classification the number of samples usually have to\n",
    "        be big enough to contain at least one sample from each class.\n",
    "        (default: np.linspace(0.1, 1.0, 5))\n",
    "    \"\"\"\n",
    "    plt.figure(figsize=(10,5))\n",
    "    plt.title(title)\n",
    "    if ylim is not None:\n",
    "        plt.ylim(*ylim)\n",
    "    plt.xlabel(\"Training examples\")\n",
    "    plt.ylabel(\"Score\")\n",
    "    train_sizes, train_scores, test_scores = learning_curve(\n",
    "        estimator, X, y, cv=cv, n_jobs=n_jobs, train_sizes=train_sizes, scoring=scoring_fnc)\n",
    "    train_scores_mean = np.mean(train_scores, axis=1)\n",
    "    train_scores_std = np.std(train_scores, axis=1)\n",
    "    test_scores_mean = np.mean(test_scores, axis=1)\n",
    "    test_scores_std = np.std(test_scores, axis=1)\n",
    "    plt.grid()\n",
    "\n",
    "    plt.fill_between(train_sizes, train_scores_mean - train_scores_std,\n",
    "                     train_scores_mean + train_scores_std, alpha=0.1,\n",
    "                     color=\"r\")\n",
    "    plt.fill_between(train_sizes, test_scores_mean - test_scores_std,\n",
    "                     test_scores_mean + test_scores_std, alpha=0.1, color=\"g\")\n",
    "    plt.plot(train_sizes, train_scores_mean, 'o-', color=\"r\",\n",
    "             label=\"Training score\")\n",
    "    plt.plot(train_sizes, test_scores_mean, 'o-', color=\"g\",\n",
    "             label=\"Cross-validation score\")\n",
    "\n",
    "    plt.legend(loc=\"best\")\n",
    "    return plt"
   ]
  },
  {
   "cell_type": "code",
   "execution_count": 63,
   "metadata": {},
   "outputs": [
    {
     "data": {
      "text/plain": [
       "<module 'matplotlib.pyplot' from 'C:\\\\Users\\\\Cruzz\\\\Anaconda3\\\\lib\\\\site-packages\\\\matplotlib\\\\pyplot.py'>"
      ]
     },
     "execution_count": 63,
     "metadata": {},
     "output_type": "execute_result"
    },
    {
     "data": {
      "image/png": "[encoded data removed]",
      "text/plain": [
       "<Figure size 720x360 with 1 Axes>"
      ]
     },
     "metadata": {
      "needs_background": "light"
     },
     "output_type": "display_data"
    }
   ],
   "source": [
    "plot_learning_curve(reg, 'Learning Curve Linear Regression -> High Bias', X_train, np.log1p(y_train), cv=10, train_sizes=np.linspace(.1, 1.0, 10), ylim=(1.67, 2.7))"
   ]
  },
  {
   "cell_type": "markdown",
   "metadata": {},
   "source": [
    "### Random Forest"
   ]
  },
  {
   "cell_type": "code",
   "execution_count": 64,
   "metadata": {},
   "outputs": [
    {
     "data": {
      "text/plain": [
       "{'model': RandomForestRegressor(bootstrap=True, criterion='mse', max_depth=None,\n",
       "            max_features='auto', max_leaf_nodes=None,\n",
       "            min_impurity_decrease=0.0, min_impurity_split=None,\n",
       "            min_samples_leaf=1, min_samples_split=2,\n",
       "            min_weight_fraction_leaf=0.0, n_estimators='warn', n_jobs=None,\n",
       "            oob_score=False, random_state=None, verbose=0, warm_start=False),\n",
       " 'mean_train_score': 1.0164282286747883,\n",
       " 'mean_cv_score': 2.3887033454193793,\n",
       " 'std_train_score': 0.021376634103073625,\n",
       " 'std_cv_score': 0.0965816005882214}"
      ]
     },
     "metadata": {},
     "output_type": "display_data"
    },
    {
     "data": {
      "text/plain": [
       "<module 'matplotlib.pyplot' from 'C:\\\\Users\\\\Cruzz\\\\Anaconda3\\\\lib\\\\site-packages\\\\matplotlib\\\\pyplot.py'>"
      ]
     },
     "execution_count": 64,
     "metadata": {},
     "output_type": "execute_result"
    },
    {
     "data": {
      "image/png": "[encoded data removed]",
      "text/plain": [
       "<Figure size 720x360 with 1 Axes>"
      ]
     },
     "metadata": {
      "needs_background": "light"
     },
     "output_type": "display_data"
    }
   ],
   "source": [
    "rf_reg = RandomForestRegressor()\n",
    "display(train_and_eval(rf_reg, X_train, y_train, scoring_fnc))\n",
    "plot_learning_curve(rf_reg, 'Learning Curve Default Random Forest -> So Overfitted', X_train, np.log1p(y_train), cv=10, train_sizes=np.linspace(.1, 1.0, 10))"
   ]
  },
  {
   "cell_type": "markdown",
   "metadata": {},
   "source": [
    "#### GridSearch"
   ]
  },
  {
   "cell_type": "code",
   "execution_count": 79,
   "metadata": {},
   "outputs": [
    {
     "name": "stdout",
     "output_type": "stream",
     "text": [
      "{'max_depth': [2, 3, 5, 8, 13, None],\n",
      " 'max_features': ['auto', 'sqrt'],\n",
      " 'min_samples_leaf': [1, 2, 4, 10],\n",
      " 'min_samples_split': [2, 5, 10],\n",
      " 'n_estimators': [10, 20, 30, 50, 100, 200]}\n",
      "Fitting 5 folds for each of 864 candidates, totalling 4320 fits\n"
     ]
    },
    {
     "name": "stderr",
     "output_type": "stream",
     "text": [
      "[Parallel(n_jobs=-1)]: Using backend LokyBackend with 4 concurrent workers.\n",
      "[Parallel(n_jobs=-1)]: Done 290 tasks      | elapsed:    6.3s\n",
      "[Parallel(n_jobs=-1)]: Done 1022 tasks      | elapsed:   21.1s\n",
      "[Parallel(n_jobs=-1)]: Done 2240 tasks      | elapsed:   52.6s\n",
      "[Parallel(n_jobs=-1)]: Done 3020 tasks      | elapsed:  1.4min\n",
      "[Parallel(n_jobs=-1)]: Done 3484 tasks      | elapsed:  1.8min\n",
      "[Parallel(n_jobs=-1)]: Done 4320 out of 4320 | elapsed:  2.4min finished\n"
     ]
    },
    {
     "data": {
      "text/plain": [
       "GridSearchCV(cv=5, error_score='raise-deprecating',\n",
       "       estimator=RandomForestRegressor(bootstrap=True, criterion='mse', max_depth=None,\n",
       "           max_features='auto', max_leaf_nodes=None,\n",
       "           min_impurity_decrease=0.0, min_impurity_split=None,\n",
       "           min_samples_leaf=1, min_samples_split=2,\n",
       "           min_weight_fraction_leaf=0.0, n_estimators='warn', n_jobs=None,\n",
       "           oob_score=False, random_state=None, verbose=0, warm_start=False),\n",
       "       fit_params=None, iid='warn', n_jobs=-1,\n",
       "       param_grid={'n_estimators': [10, 20, 30, 50, 100, 200], 'max_features': ['auto', 'sqrt'], 'max_depth': [2, 3, 5, 8, 13, None], 'min_samples_split': [2, 5, 10], 'min_samples_leaf': [1, 2, 4, 10]},\n",
       "       pre_dispatch='2*n_jobs', refit=True, return_train_score='warn',\n",
       "       scoring=make_scorer(my_score_neg), verbose=2)"
      ]
     },
     "execution_count": 79,
     "metadata": {},
     "output_type": "execute_result"
    }
   ],
   "source": [
    "# Define own scoring function\n",
    "# because target is actually log(target)\n",
    "# returns -error, because grid search maximizes the eval metric\n",
    "def my_score_neg(y_true, y_pred):\n",
    "    '''\n",
    "    Compute the RMSLE on the actual target values, not the log target\n",
    "    '''\n",
    "    return -1 * np.sqrt(mean_squared_log_error(np.exp(y_true) - 1, np.exp(y_pred) - 1))\n",
    "scoring_fnc_rf = make_scorer(my_score_neg)\n",
    "\n",
    "\n",
    "# Number of trees\n",
    "n_estimators = [10, 20, 30, 50, 100, 200]\n",
    "\n",
    "# Number of features to consider at every split\n",
    "max_features = ['auto', 'sqrt']\n",
    "\n",
    "# Maximum number of levels in tree\n",
    "max_depth = [2, 3, 5, 8]\n",
    "max_depth.append(None)\n",
    "\n",
    "# Minimum number of samples required to split a node\n",
    "min_samples_split = [2, 5, 10]\n",
    "\n",
    "# Minimum number of samples required at each leaf node\n",
    "min_samples_leaf = [1, 2, 4, 10]\n",
    "\n",
    "# Create the random grid\n",
    "param_grid = {'n_estimators': n_estimators,\n",
    "               'max_features': max_features,\n",
    "               'max_depth': max_depth,\n",
    "               'min_samples_split': min_samples_split,\n",
    "               'min_samples_leaf': min_samples_leaf}\n",
    "\n",
    "pprint(param_grid)\n",
    "\n",
    "rf = RandomForestRegressor()\n",
    "rf_grid = GridSearchCV(rf, param_grid=param_grid, cv=10, n_jobs=-1, verbose=2, scoring=scoring_fnc_neg)\n",
    "rf_grid.fit(X_train, np.log1p(y_train))"
   ]
  },
  {
   "cell_type": "code",
   "execution_count": 80,
   "metadata": {},
   "outputs": [
    {
     "name": "stdout",
     "output_type": "stream",
     "text": [
      "RandomForestRegressor(bootstrap=True, criterion='mse', max_depth=8,\n",
      "           max_features='auto', max_leaf_nodes=None,\n",
      "           min_impurity_decrease=0.0, min_impurity_split=None,\n",
      "           min_samples_leaf=2, min_samples_split=5,\n",
      "           min_weight_fraction_leaf=0.0, n_estimators=20, n_jobs=None,\n",
      "           oob_score=False, random_state=None, verbose=0, warm_start=False)\n",
      "-2.2453627894737775\n"
     ]
    },
    {
     "data": {
      "text/html": [
       "<div>\n",
       "<style scoped>\n",
       "    .dataframe tbody tr th:only-of-type {\n",
       "        vertical-align: middle;\n",
       "    }\n",
       "\n",
       "    .dataframe tbody tr th {\n",
       "        vertical-align: top;\n",
       "    }\n",
       "\n",
       "    .dataframe thead th {\n",
       "        text-align: right;\n",
       "    }\n",
       "</style>\n",
       "<table border=\"1\" class=\"dataframe\">\n",
       "  <thead>\n",
       "    <tr style=\"text-align: right;\">\n",
       "      <th></th>\n",
       "      <th>mean_fit_time</th>\n",
       "      <th>std_fit_time</th>\n",
       "      <th>mean_score_time</th>\n",
       "      <th>std_score_time</th>\n",
       "      <th>split0_test_score</th>\n",
       "      <th>split1_test_score</th>\n",
       "      <th>split2_test_score</th>\n",
       "      <th>split3_test_score</th>\n",
       "      <th>split4_test_score</th>\n",
       "      <th>mean_test_score</th>\n",
       "      <th>std_test_score</th>\n",
       "      <th>rank_test_score</th>\n",
       "      <th>split0_train_score</th>\n",
       "      <th>split1_train_score</th>\n",
       "      <th>split2_train_score</th>\n",
       "      <th>split3_train_score</th>\n",
       "      <th>split4_train_score</th>\n",
       "      <th>mean_train_score</th>\n",
       "      <th>std_train_score</th>\n",
       "    </tr>\n",
       "  </thead>\n",
       "  <tbody>\n",
       "    <tr>\n",
       "      <th>count</th>\n",
       "      <td>864.000000</td>\n",
       "      <td>8.640000e+02</td>\n",
       "      <td>864.000000</td>\n",
       "      <td>864.000000</td>\n",
       "      <td>864.000000</td>\n",
       "      <td>864.000000</td>\n",
       "      <td>864.000000</td>\n",
       "      <td>864.000000</td>\n",
       "      <td>864.000000</td>\n",
       "      <td>864.000000</td>\n",
       "      <td>864.000000</td>\n",
       "      <td>864.000000</td>\n",
       "      <td>864.000000</td>\n",
       "      <td>864.000000</td>\n",
       "      <td>864.000000</td>\n",
       "      <td>864.000000</td>\n",
       "      <td>864.000000</td>\n",
       "      <td>864.000000</td>\n",
       "      <td>864.000000</td>\n",
       "    </tr>\n",
       "    <tr>\n",
       "      <th>mean</th>\n",
       "      <td>0.114438</td>\n",
       "      <td>5.019887e-03</td>\n",
       "      <td>0.005704</td>\n",
       "      <td>0.005110</td>\n",
       "      <td>-2.121904</td>\n",
       "      <td>-2.336863</td>\n",
       "      <td>-2.490672</td>\n",
       "      <td>-2.461796</td>\n",
       "      <td>-2.326117</td>\n",
       "      <td>-2.347470</td>\n",
       "      <td>0.133139</td>\n",
       "      <td>432.500000</td>\n",
       "      <td>-2.114304</td>\n",
       "      <td>-2.064621</td>\n",
       "      <td>-2.040749</td>\n",
       "      <td>-2.047949</td>\n",
       "      <td>-2.072278</td>\n",
       "      <td>-2.067980</td>\n",
       "      <td>0.029666</td>\n",
       "    </tr>\n",
       "    <tr>\n",
       "      <th>std</th>\n",
       "      <td>0.150312</td>\n",
       "      <td>3.601875e-03</td>\n",
       "      <td>0.004817</td>\n",
       "      <td>0.003093</td>\n",
       "      <td>0.082870</td>\n",
       "      <td>0.092635</td>\n",
       "      <td>0.112494</td>\n",
       "      <td>0.132356</td>\n",
       "      <td>0.080798</td>\n",
       "      <td>0.095971</td>\n",
       "      <td>0.022314</td>\n",
       "      <td>249.559612</td>\n",
       "      <td>0.379294</td>\n",
       "      <td>0.367372</td>\n",
       "      <td>0.362489</td>\n",
       "      <td>0.359732</td>\n",
       "      <td>0.372919</td>\n",
       "      <td>0.367967</td>\n",
       "      <td>0.011111</td>\n",
       "    </tr>\n",
       "    <tr>\n",
       "      <th>min</th>\n",
       "      <td>0.003125</td>\n",
       "      <td>1.168008e-07</td>\n",
       "      <td>0.000000</td>\n",
       "      <td>0.000000</td>\n",
       "      <td>-2.526379</td>\n",
       "      <td>-2.658604</td>\n",
       "      <td>-2.913612</td>\n",
       "      <td>-2.896335</td>\n",
       "      <td>-2.658320</td>\n",
       "      <td>-2.691335</td>\n",
       "      <td>0.076653</td>\n",
       "      <td>1.000000</td>\n",
       "      <td>-2.832108</td>\n",
       "      <td>-2.680647</td>\n",
       "      <td>-2.677379</td>\n",
       "      <td>-2.654913</td>\n",
       "      <td>-2.752927</td>\n",
       "      <td>-2.682135</td>\n",
       "      <td>0.005177</td>\n",
       "    </tr>\n",
       "    <tr>\n",
       "      <th>25%</th>\n",
       "      <td>0.028125</td>\n",
       "      <td>1.038148e-06</td>\n",
       "      <td>0.003125</td>\n",
       "      <td>0.000001</td>\n",
       "      <td>-2.157529</td>\n",
       "      <td>-2.368787</td>\n",
       "      <td>-2.538012</td>\n",
       "      <td>-2.502936</td>\n",
       "      <td>-2.379145</td>\n",
       "      <td>-2.391610</td>\n",
       "      <td>0.118881</td>\n",
       "      <td>216.750000</td>\n",
       "      <td>-2.391051</td>\n",
       "      <td>-2.336840</td>\n",
       "      <td>-2.317740</td>\n",
       "      <td>-2.319649</td>\n",
       "      <td>-2.361538</td>\n",
       "      <td>-2.344768</td>\n",
       "      <td>0.023989</td>\n",
       "    </tr>\n",
       "    <tr>\n",
       "      <th>50%</th>\n",
       "      <td>0.059375</td>\n",
       "      <td>6.250048e-03</td>\n",
       "      <td>0.003125</td>\n",
       "      <td>0.006250</td>\n",
       "      <td>-2.096885</td>\n",
       "      <td>-2.302819</td>\n",
       "      <td>-2.448370</td>\n",
       "      <td>-2.415762</td>\n",
       "      <td>-2.301049</td>\n",
       "      <td>-2.305332</td>\n",
       "      <td>0.128713</td>\n",
       "      <td>432.500000</td>\n",
       "      <td>-2.191089</td>\n",
       "      <td>-2.128027</td>\n",
       "      <td>-2.110082</td>\n",
       "      <td>-2.118979</td>\n",
       "      <td>-2.131778</td>\n",
       "      <td>-2.137003</td>\n",
       "      <td>0.029099</td>\n",
       "    </tr>\n",
       "    <tr>\n",
       "      <th>75%</th>\n",
       "      <td>0.135156</td>\n",
       "      <td>7.654505e-03</td>\n",
       "      <td>0.009375</td>\n",
       "      <td>0.007655</td>\n",
       "      <td>-2.063178</td>\n",
       "      <td>-2.271742</td>\n",
       "      <td>-2.412140</td>\n",
       "      <td>-2.366893</td>\n",
       "      <td>-2.271839</td>\n",
       "      <td>-2.280769</td>\n",
       "      <td>0.147737</td>\n",
       "      <td>648.250000</td>\n",
       "      <td>-1.887680</td>\n",
       "      <td>-1.840492</td>\n",
       "      <td>-1.820382</td>\n",
       "      <td>-1.831818</td>\n",
       "      <td>-1.843660</td>\n",
       "      <td>-1.843090</td>\n",
       "      <td>0.033238</td>\n",
       "    </tr>\n",
       "    <tr>\n",
       "      <th>max</th>\n",
       "      <td>1.146870</td>\n",
       "      <td>1.874985e-02</td>\n",
       "      <td>0.025001</td>\n",
       "      <td>0.007656</td>\n",
       "      <td>-1.998471</td>\n",
       "      <td>-2.196145</td>\n",
       "      <td>-2.326142</td>\n",
       "      <td>-2.295133</td>\n",
       "      <td>-2.201576</td>\n",
       "      <td>-2.245363</td>\n",
       "      <td>0.222636</td>\n",
       "      <td>864.000000</td>\n",
       "      <td>-0.858787</td>\n",
       "      <td>-0.852545</td>\n",
       "      <td>-0.826999</td>\n",
       "      <td>-0.843796</td>\n",
       "      <td>-0.853811</td>\n",
       "      <td>-0.847513</td>\n",
       "      <td>0.122318</td>\n",
       "    </tr>\n",
       "  </tbody>\n",
       "</table>\n",
       "</div>"
      ],
      "text/plain": [
       "       mean_fit_time  std_fit_time  mean_score_time  std_score_time  \\\n",
       "count     864.000000  8.640000e+02       864.000000      864.000000   \n",
       "mean        0.114438  5.019887e-03         0.005704        0.005110   \n",
       "std         0.150312  3.601875e-03         0.004817        0.003093   \n",
       "min         0.003125  1.168008e-07         0.000000        0.000000   \n",
       "25%         0.028125  1.038148e-06         0.003125        0.000001   \n",
       "50%         0.059375  6.250048e-03         0.003125        0.006250   \n",
       "75%         0.135156  7.654505e-03         0.009375        0.007655   \n",
       "max         1.146870  1.874985e-02         0.025001        0.007656   \n",
       "\n",
       "       split0_test_score  split1_test_score  split2_test_score  \\\n",
       "count         864.000000         864.000000         864.000000   \n",
       "mean           -2.121904          -2.336863          -2.490672   \n",
       "std             0.082870           0.092635           0.112494   \n",
       "min            -2.526379          -2.658604          -2.913612   \n",
       "25%            -2.157529          -2.368787          -2.538012   \n",
       "50%            -2.096885          -2.302819          -2.448370   \n",
       "75%            -2.063178          -2.271742          -2.412140   \n",
       "max            -1.998471          -2.196145          -2.326142   \n",
       "\n",
       "       split3_test_score  split4_test_score  mean_test_score  std_test_score  \\\n",
       "count         864.000000         864.000000       864.000000      864.000000   \n",
       "mean           -2.461796          -2.326117        -2.347470        0.133139   \n",
       "std             0.132356           0.080798         0.095971        0.022314   \n",
       "min            -2.896335          -2.658320        -2.691335        0.076653   \n",
       "25%            -2.502936          -2.379145        -2.391610        0.118881   \n",
       "50%            -2.415762          -2.301049        -2.305332        0.128713   \n",
       "75%            -2.366893          -2.271839        -2.280769        0.147737   \n",
       "max            -2.295133          -2.201576        -2.245363        0.222636   \n",
       "\n",
       "       rank_test_score  split0_train_score  split1_train_score  \\\n",
       "count       864.000000          864.000000          864.000000   \n",
       "mean        432.500000           -2.114304           -2.064621   \n",
       "std         249.559612            0.379294            0.367372   \n",
       "min           1.000000           -2.832108           -2.680647   \n",
       "25%         216.750000           -2.391051           -2.336840   \n",
       "50%         432.500000           -2.191089           -2.128027   \n",
       "75%         648.250000           -1.887680           -1.840492   \n",
       "max         864.000000           -0.858787           -0.852545   \n",
       "\n",
       "       split2_train_score  split3_train_score  split4_train_score  \\\n",
       "count          864.000000          864.000000          864.000000   \n",
       "mean            -2.040749           -2.047949           -2.072278   \n",
       "std              0.362489            0.359732            0.372919   \n",
       "min             -2.677379           -2.654913           -2.752927   \n",
       "25%             -2.317740           -2.319649           -2.361538   \n",
       "50%             -2.110082           -2.118979           -2.131778   \n",
       "75%             -1.820382           -1.831818           -1.843660   \n",
       "max             -0.826999           -0.843796           -0.853811   \n",
       "\n",
       "       mean_train_score  std_train_score  \n",
       "count        864.000000       864.000000  \n",
       "mean          -2.067980         0.029666  \n",
       "std            0.367967         0.011111  \n",
       "min           -2.682135         0.005177  \n",
       "25%           -2.344768         0.023989  \n",
       "50%           -2.137003         0.029099  \n",
       "75%           -1.843090         0.033238  \n",
       "max           -0.847513         0.122318  "
      ]
     },
     "execution_count": 80,
     "metadata": {},
     "output_type": "execute_result"
    }
   ],
   "source": [
    "pprint(rf_grid.best_estimator_)\n",
    "print(rf_grid.best_score_)\n",
    "rf_reg = rf_grid.best_estimator_\n",
    "display(train_and_eval(rf_reg, X_train, y_train, scoring_fnc))\n",
    "plot_learning_curve(rf_reg, 'Learning Curve Tuned Random Forest', X_train, np.log1p(y_train), cv=10, train_sizes=np.linspace(.1, 1.0, 10))"
   ]
  },
  {
   "cell_type": "markdown",
   "metadata": {},
   "source": [
    "### Gradient Boosting"
   ]
  },
  {
   "cell_type": "code",
   "execution_count": 65,
   "metadata": {},
   "outputs": [
    {
     "data": {
      "text/plain": [
       "{'model': GradientBoostingRegressor(alpha=0.9, criterion='friedman_mse', init=None,\n",
       "              learning_rate=0.1, loss='ls', max_depth=3, max_features=None,\n",
       "              max_leaf_nodes=None, min_impurity_decrease=0.0,\n",
       "              min_impurity_split=None, min_samples_leaf=1,\n",
       "              min_samples_split=2, min_weight_fraction_leaf=0.0,\n",
       "              n_estimators=100, n_iter_no_change=None, presort='auto',\n",
       "              random_state=None, subsample=1.0, tol=0.0001,\n",
       "              validation_fraction=0.1, verbose=0, warm_start=False),\n",
       " 'mean_train_score': 1.8824867931832998,\n",
       " 'mean_cv_score': 2.240256956853087,\n",
       " 'std_train_score': 0.024213424591614092,\n",
       " 'std_cv_score': 0.11577732889134486}"
      ]
     },
     "metadata": {},
     "output_type": "display_data"
    },
    {
     "data": {
      "text/plain": [
       "<module 'matplotlib.pyplot' from 'C:\\\\Users\\\\Cruzz\\\\Anaconda3\\\\lib\\\\site-packages\\\\matplotlib\\\\pyplot.py'>"
      ]
     },
     "execution_count": 65,
     "metadata": {},
     "output_type": "execute_result"
    },
    {
     "data": {
      "image/png": "[encoded data removed]",
      "text/plain": [
       "<Figure size 720x360 with 1 Axes>"
      ]
     },
     "metadata": {
      "needs_background": "light"
     },
     "output_type": "display_data"
    }
   ],
   "source": [
    "gb = GradientBoostingRegressor()\n",
    "display(train_and_eval(gb, X_train, y_train, scoring_fnc))\n",
    "plot_learning_curve(gb, 'Learning Curve Default GBM', X_train, np.log1p(y_train), cv=10, train_sizes=np.linspace(.1, 1.0, 10))"
   ]
  },
  {
   "cell_type": "markdown",
   "metadata": {},
   "source": [
    "#### Grid Search"
   ]
  },
  {
   "cell_type": "code",
   "execution_count": 56,
   "metadata": {},
   "outputs": [
    {
     "name": "stdout",
     "output_type": "stream",
     "text": [
      "{'learning_rate': [0.01, 0.1, 0.15, 0.2],\n",
      " 'max_depth': [1, 2, 3, 5],\n",
      " 'n_estimators': [10, 50, 100, 200, 300]}\n",
      "Fitting 10 folds for each of 80 candidates, totalling 800 fits\n"
     ]
    },
    {
     "name": "stderr",
     "output_type": "stream",
     "text": [
      "[Parallel(n_jobs=-1)]: Using backend LokyBackend with 4 concurrent workers.\n",
      "[Parallel(n_jobs=-1)]: Done  40 tasks      | elapsed:    1.8s\n",
      "[Parallel(n_jobs=-1)]: Done 451 tasks      | elapsed:   22.5s\n",
      "[Parallel(n_jobs=-1)]: Done 793 out of 800 | elapsed:   38.7s remaining:    0.2s\n",
      "[Parallel(n_jobs=-1)]: Done 800 out of 800 | elapsed:   39.9s finished\n",
      "C:\\Users\\Cruzz\\Anaconda3\\lib\\site-packages\\sklearn\\model_selection\\_search.py:791: RuntimeWarning: invalid value encountered in subtract\n",
      "  array_means[:, np.newaxis]) ** 2,\n"
     ]
    },
    {
     "data": {
      "text/plain": [
       "GridSearchCV(cv=10, error_score='raise-deprecating',\n",
       "       estimator=GradientBoostingRegressor(alpha=0.9, criterion='friedman_mse', init=None,\n",
       "             learning_rate=0.1, loss='ls', max_depth=3, max_features=None,\n",
       "             max_leaf_nodes=None, min_impurity_decrease=0.0,\n",
       "             min_impurity_split=None, min_samples_leaf=1,\n",
       "             min_sampl...=None, subsample=1.0, tol=0.0001,\n",
       "             validation_fraction=0.1, verbose=0, warm_start=False),\n",
       "       fit_params=None, iid='warn', n_jobs=-1,\n",
       "       param_grid={'learning_rate': [0.01, 0.1, 0.15, 0.2], 'n_estimators': [10, 50, 100, 200, 300], 'max_depth': [1, 2, 3, 5]},\n",
       "       pre_dispatch='2*n_jobs', refit=True, return_train_score='warn',\n",
       "       scoring=make_scorer(my_score_neg), verbose=2)"
      ]
     },
     "execution_count": 56,
     "metadata": {},
     "output_type": "execute_result"
    }
   ],
   "source": [
    "# Learning rate\n",
    "learning_rate = [0.01, 0.1, 0.15, 0.2]\n",
    "\n",
    "# Number of trees\n",
    "n_estimators = [10, 50, 100, 200, 300]\n",
    "\n",
    "# Max Depth\n",
    "max_depth = [1, 2, 3, 5]\n",
    "\n",
    "# Create the random grid\n",
    "param_grid = {'learning_rate': learning_rate,\n",
    "                'n_estimators': n_estimators, \n",
    "                'max_depth': max_depth}\n",
    "\n",
    "pprint(param_grid)\n",
    "\n",
    "gb = GradientBoostingRegressor()\n",
    "gb_grid = GridSearchCV(gb, param_grid=param_grid, cv=10, n_jobs=-1, verbose=2, scoring=scoring_fnc_neg)\n",
    "gb_grid.fit(X_train, np.log1p(y_train))"
   ]
  },
  {
   "cell_type": "code",
   "execution_count": 67,
   "metadata": {},
   "outputs": [
    {
     "name": "stdout",
     "output_type": "stream",
     "text": [
      "-2.2020608694333856\n"
     ]
    },
    {
     "data": {
      "text/plain": [
       "{'model': GradientBoostingRegressor(alpha=0.9, criterion='friedman_mse', init=None,\n",
       "              learning_rate=0.2, loss='ls', max_depth=2, max_features=None,\n",
       "              max_leaf_nodes=None, min_impurity_decrease=0.0,\n",
       "              min_impurity_split=None, min_samples_leaf=1,\n",
       "              min_samples_split=2, min_weight_fraction_leaf=0.0,\n",
       "              n_estimators=100, n_iter_no_change=None, presort='auto',\n",
       "              random_state=None, subsample=1.0, tol=0.0001,\n",
       "              validation_fraction=0.1, verbose=0, warm_start=False),\n",
       " 'mean_train_score': 1.9518716892919485,\n",
       " 'mean_cv_score': 2.241500867424684,\n",
       " 'std_train_score': 0.027575288210124817,\n",
       " 'std_cv_score': 0.12534712578361207}"
      ]
     },
     "metadata": {},
     "output_type": "display_data"
    },
    {
     "data": {
      "text/plain": [
       "<module 'matplotlib.pyplot' from 'C:\\\\Users\\\\Cruzz\\\\Anaconda3\\\\lib\\\\site-packages\\\\matplotlib\\\\pyplot.py'>"
      ]
     },
     "execution_count": 67,
     "metadata": {},
     "output_type": "execute_result"
    },
    {
     "data": {
      "image/png": "[encoded data removed]",
      "text/plain": [
       "<Figure size 720x360 with 1 Axes>"
      ]
     },
     "metadata": {
      "needs_background": "light"
     },
     "output_type": "display_data"
    }
   ],
   "source": [
    "print(gb_grid.best_score_)\n",
    "display(train_and_eval(gb_grid.best_estimator_, X_train, y_train, scoring_fnc))\n",
    "plot_learning_curve(gb_grid.best_estimator_, 'Learning Curve tuned GBM', X_train, np.log1p(y_train), cv=10, train_sizes=np.linspace(.1, 1.0, 10))"
   ]
  }
 ],
 "metadata": {
  "kernelspec": {
   "display_name": "Python 3",
   "language": "python",
   "name": "python3"
  },
  "language_info": {
   "codemirror_mode": {
    "name": "ipython",
    "version": 3
   },
   "file_extension": ".py",
   "mimetype": "text/x-python",
   "name": "python",
   "nbconvert_exporter": "python",
   "pygments_lexer": "ipython3",
   "version": "3.7.1"
  }
 },
 "nbformat": 4,
 "nbformat_minor": 2
}
