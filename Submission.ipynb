{
 "cells": [
  {
   "cell_type": "code",
   "execution_count": 1,
   "metadata": {},
   "outputs": [],
   "source": [
    "import pandas as pd\n",
    "import numpy as np\n",
    "from dateutil import parser\n",
    "\n",
    "from common.features import extract_has_top_keyword, has_top_keyword, getTimeFeatures, getBinaryFeatures\n",
    "import lightgbm as lgb\n",
    "from sklearn.model_selection import train_test_split\n",
    "\n",
    "pd.set_option('display.float_format', lambda x: '%.3f' % x)"
   ]
  },
  {
   "cell_type": "code",
   "execution_count": 2,
   "metadata": {},
   "outputs": [],
   "source": [
    "data_orig = pd.read_csv('./data/train.csv')\n",
    "data = data_orig.copy()"
   ]
  },
  {
   "cell_type": "code",
   "execution_count": 4,
   "metadata": {},
   "outputs": [],
   "source": [
    "data['log_budget'] = np.log1p(data.budget)\n",
    "data['log_popularity'] = np.log1p(data.popularity)\n",
    "\n",
    "has_top_keyword_df, top_keywords = extract_has_top_keyword(data_orig)\n",
    "data = data.merge(has_top_keyword_df, on=['id'], how='left')"
   ]
  },
  {
   "cell_type": "code",
   "execution_count": 5,
   "metadata": {},
   "outputs": [
    {
     "name": "stderr",
     "output_type": "stream",
     "text": [
      "C:\\Users\\Cruzz\\Documents\\Kaggle\\TMDB Box Office\\BoxOffice\\common\\features.py:74: SettingWithCopyWarning: modifications to a property of a datetimelike object are not supported and are discarded. Change values on the original.\n",
      "  year[year>2020] = year[year>2020]-100\n",
      "C:\\Users\\Cruzz\\Anaconda3\\lib\\site-packages\\pandas\\core\\generic.py:7626: SettingWithCopyWarning: modifications to a property of a datetimelike object are not supported and are discarded. Change values on the original.\n",
      "  self._update_inplace(new_data)\n"
     ]
    }
   ],
   "source": [
    "age_df = getTimeFeatures(data_orig)\n",
    "data = data.merge(age_df, on=['id'], how='left')\n",
    "\n",
    "bin_features_df = getBinaryFeatures(data_orig)\n",
    "data = data.merge(bin_features_df, on=['id'], how='left')"
   ]
  },
  {
   "cell_type": "code",
   "execution_count": 8,
   "metadata": {},
   "outputs": [],
   "source": [
    "features = [\n",
    "    'log_budget', 'log_popularity', 'runtime', 'has_top_keyword',\n",
    "    'year', 'day', 'age',\n",
    "    'hashomepage', 'isinCollection', 'zeroBudget'\n",
    "]\n",
    "target = 'revenue'"
   ]
  },
  {
   "cell_type": "code",
   "execution_count": 9,
   "metadata": {},
   "outputs": [
    {
     "data": {
      "text/html": [
       "<div>\n",
       "<style scoped>\n",
       "    .dataframe tbody tr th:only-of-type {\n",
       "        vertical-align: middle;\n",
       "    }\n",
       "\n",
       "    .dataframe tbody tr th {\n",
       "        vertical-align: top;\n",
       "    }\n",
       "\n",
       "    .dataframe thead th {\n",
       "        text-align: right;\n",
       "    }\n",
       "</style>\n",
       "<table border=\"1\" class=\"dataframe\">\n",
       "  <thead>\n",
       "    <tr style=\"text-align: right;\">\n",
       "      <th></th>\n",
       "      <th>log_budget</th>\n",
       "      <th>log_popularity</th>\n",
       "      <th>runtime</th>\n",
       "      <th>has_top_keyword</th>\n",
       "      <th>year</th>\n",
       "      <th>day</th>\n",
       "      <th>age</th>\n",
       "      <th>hashomepage</th>\n",
       "      <th>isinCollection</th>\n",
       "      <th>zeroBudget</th>\n",
       "    </tr>\n",
       "  </thead>\n",
       "  <tbody>\n",
       "    <tr>\n",
       "      <th>0</th>\n",
       "      <td>16.455</td>\n",
       "      <td>2.025</td>\n",
       "      <td>93.000</td>\n",
       "      <td>True</td>\n",
       "      <td>2015</td>\n",
       "      <td>4</td>\n",
       "      <td>2</td>\n",
       "      <td>False</td>\n",
       "      <td>True</td>\n",
       "      <td>False</td>\n",
       "    </tr>\n",
       "    <tr>\n",
       "      <th>1</th>\n",
       "      <td>17.504</td>\n",
       "      <td>2.225</td>\n",
       "      <td>113.000</td>\n",
       "      <td>False</td>\n",
       "      <td>2004</td>\n",
       "      <td>4</td>\n",
       "      <td>13</td>\n",
       "      <td>False</td>\n",
       "      <td>True</td>\n",
       "      <td>False</td>\n",
       "    </tr>\n",
       "    <tr>\n",
       "      <th>2</th>\n",
       "      <td>15.009</td>\n",
       "      <td>4.179</td>\n",
       "      <td>105.000</td>\n",
       "      <td>False</td>\n",
       "      <td>2014</td>\n",
       "      <td>4</td>\n",
       "      <td>3</td>\n",
       "      <td>True</td>\n",
       "      <td>False</td>\n",
       "      <td>False</td>\n",
       "    </tr>\n",
       "  </tbody>\n",
       "</table>\n",
       "</div>"
      ],
      "text/plain": [
       "   log_budget  log_popularity  runtime  has_top_keyword  year  day  age  \\\n",
       "0      16.455           2.025   93.000             True  2015    4    2   \n",
       "1      17.504           2.225  113.000            False  2004    4   13   \n",
       "2      15.009           4.179  105.000            False  2014    4    3   \n",
       "\n",
       "   hashomepage  isinCollection  zeroBudget  \n",
       "0        False            True       False  \n",
       "1        False            True       False  \n",
       "2         True           False       False  "
      ]
     },
     "execution_count": 9,
     "metadata": {},
     "output_type": "execute_result"
    }
   ],
   "source": [
    "data[features].head(3)"
   ]
  },
  {
   "cell_type": "markdown",
   "metadata": {},
   "source": [
    "---\n",
    "## Model Training"
   ]
  },
  {
   "cell_type": "code",
   "execution_count": 10,
   "metadata": {},
   "outputs": [],
   "source": [
    "X_train, X_test, y_train, y_test = train_test_split(data[features], data[target], test_size=0.2, random_state=42)"
   ]
  },
  {
   "cell_type": "code",
   "execution_count": 11,
   "metadata": {},
   "outputs": [
    {
     "name": "stdout",
     "output_type": "stream",
     "text": [
      "Training until validation scores don't improve for 1000 rounds.\n",
      "[100]\tvalid_0's rmse: 2.27067\n",
      "[200]\tvalid_0's rmse: 2.12339\n",
      "[300]\tvalid_0's rmse: 2.09024\n",
      "[400]\tvalid_0's rmse: 2.07951\n",
      "[500]\tvalid_0's rmse: 2.07117\n",
      "[600]\tvalid_0's rmse: 2.05989\n",
      "[700]\tvalid_0's rmse: 2.05361\n",
      "[800]\tvalid_0's rmse: 2.04995\n",
      "[900]\tvalid_0's rmse: 2.04996\n",
      "[1000]\tvalid_0's rmse: 2.0493\n",
      "Did not meet early stopping. Best iteration is:\n",
      "[981]\tvalid_0's rmse: 2.04854\n"
     ]
    },
    {
     "data": {
      "text/plain": [
       "LGBMRegressor(bagging_fraction=0.9, bagging_freq=1, boosting='gbdt',\n",
       "       boosting_type='gbdt', class_weight=None, colsample_bytree=0.9,\n",
       "       feature_fraction=0.9, importance_type='gain', lambda_l1=0.2,\n",
       "       learning_rate=0.01, max_depth=4, metric='rmse',\n",
       "       min_child_samples=100, min_child_weight=0.001, min_data_in_leaf=10,\n",
       "       min_split_gain=0.0, n_estimators=1000, n_jobs=-1, num_leaves=30,\n",
       "       objective='regression', random_state=None, reg_alpha=0.0,\n",
       "       reg_lambda=0.0, silent=True, subsample=0.8,\n",
       "       subsample_for_bin=200000, subsample_freq=0, use_best_model=True)"
      ]
     },
     "execution_count": 11,
     "metadata": {},
     "output_type": "execute_result"
    }
   ],
   "source": [
    "lgbmodel = lgb.LGBMRegressor(n_estimators=1000, \n",
    "                             objective='regression', \n",
    "                             metric='rmse',\n",
    "                             max_depth = 4,\n",
    "                             num_leaves=30, \n",
    "                             min_child_samples=100,\n",
    "                             learning_rate=0.01,\n",
    "                             boosting = 'gbdt',\n",
    "                             min_data_in_leaf= 10,\n",
    "                             feature_fraction = 0.9,\n",
    "                             bagging_freq = 1,\n",
    "                             bagging_fraction = 0.9,\n",
    "                             importance_type='gain',\n",
    "                             lambda_l1 = 0.2,\n",
    "                             subsample=.8, \n",
    "                             colsample_bytree=.9,\n",
    "                             use_best_model=True)\n",
    "\n",
    "fit_params={\"early_stopping_rounds\": 1000, \"verbose\": 100, \"eval_metric\": \"rmse\"}\n",
    "lgbmodel.fit(X_train, np.log1p(y_train), eval_set=[(X_test, np.log1p(y_test))], **fit_params)"
   ]
  },
  {
   "cell_type": "markdown",
   "metadata": {},
   "source": [
    "------\n",
    "## Prediction and Submission"
   ]
  },
  {
   "cell_type": "code",
   "execution_count": 16,
   "metadata": {},
   "outputs": [],
   "source": [
    "test_data = pd.read_csv('./data/test.csv')"
   ]
  },
  {
   "cell_type": "code",
   "execution_count": 17,
   "metadata": {},
   "outputs": [
    {
     "name": "stderr",
     "output_type": "stream",
     "text": [
      "C:\\Users\\Cruzz\\Documents\\Kaggle\\TMDB Box Office\\BoxOffice\\common\\features.py:74: SettingWithCopyWarning: modifications to a property of a datetimelike object are not supported and are discarded. Change values on the original.\n",
      "  year[year>2020] = year[year>2020]-100\n"
     ]
    }
   ],
   "source": [
    "test_data['log_budget'] = np.log1p(test_data.budget)\n",
    "test_data['log_popularity'] = np.log1p(test_data.popularity)\n",
    "test_data['has_top_keyword'] = test_data[\"Keywords\"].apply(has_top_keyword, args=(top_keywords,))\n",
    "\n",
    "age_df = getTimeFeatures(test_data)\n",
    "test_data = test_data.merge(age_df, on=['id'], how='left')\n",
    "\n",
    "bin_features_df = getBinaryFeatures(test_data)\n",
    "test_data = test_data.merge(bin_features_df, on=['id'], how='left')"
   ]
  },
  {
   "cell_type": "code",
   "execution_count": 18,
   "metadata": {},
   "outputs": [
    {
     "data": {
      "text/html": [
       "<div>\n",
       "<style scoped>\n",
       "    .dataframe tbody tr th:only-of-type {\n",
       "        vertical-align: middle;\n",
       "    }\n",
       "\n",
       "    .dataframe tbody tr th {\n",
       "        vertical-align: top;\n",
       "    }\n",
       "\n",
       "    .dataframe thead th {\n",
       "        text-align: right;\n",
       "    }\n",
       "</style>\n",
       "<table border=\"1\" class=\"dataframe\">\n",
       "  <thead>\n",
       "    <tr style=\"text-align: right;\">\n",
       "      <th></th>\n",
       "      <th>id</th>\n",
       "      <th>revenue</th>\n",
       "    </tr>\n",
       "  </thead>\n",
       "  <tbody>\n",
       "    <tr>\n",
       "      <th>0</th>\n",
       "      <td>3001</td>\n",
       "      <td>787916.444</td>\n",
       "    </tr>\n",
       "    <tr>\n",
       "      <th>1</th>\n",
       "      <td>3002</td>\n",
       "      <td>4408762.661</td>\n",
       "    </tr>\n",
       "    <tr>\n",
       "      <th>2</th>\n",
       "      <td>3003</td>\n",
       "      <td>3538434.073</td>\n",
       "    </tr>\n",
       "    <tr>\n",
       "      <th>3</th>\n",
       "      <td>3004</td>\n",
       "      <td>5916512.442</td>\n",
       "    </tr>\n",
       "    <tr>\n",
       "      <th>4</th>\n",
       "      <td>3005</td>\n",
       "      <td>2473452.963</td>\n",
       "    </tr>\n",
       "  </tbody>\n",
       "</table>\n",
       "</div>"
      ],
      "text/plain": [
       "     id     revenue\n",
       "0  3001  787916.444\n",
       "1  3002 4408762.661\n",
       "2  3003 3538434.073\n",
       "3  3004 5916512.442\n",
       "4  3005 2473452.963"
      ]
     },
     "execution_count": 18,
     "metadata": {},
     "output_type": "execute_result"
    }
   ],
   "source": [
    "test_features = test_data[features]\n",
    "predictions = lgbmodel.predict(test_features)\n",
    "test_data['revenue'] = np.expm1(predictions)\n",
    "test_data[['id', 'revenue']].head()"
   ]
  }
 ],
 "metadata": {
  "kernelspec": {
   "display_name": "Python 3",
   "language": "python",
   "name": "python3"
  },
  "language_info": {
   "codemirror_mode": {
    "name": "ipython",
    "version": 3
   },
   "file_extension": ".py",
   "mimetype": "text/x-python",
   "name": "python",
   "nbconvert_exporter": "python",
   "pygments_lexer": "ipython3",
   "version": "3.7.1"
  }
 },
 "nbformat": 4,
 "nbformat_minor": 2
}
