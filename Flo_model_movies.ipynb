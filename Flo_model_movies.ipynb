{
 "cells": [
  {
   "cell_type": "code",
   "execution_count": 110,
   "metadata": {},
   "outputs": [],
   "source": [
    "#imports\n",
    "import numpy as np\n",
    "import pandas as pd\n",
    "from sklearn.model_selection import train_test_split\n",
    "from sklearn.linear_model import LinearRegression\n",
    "from sklearn.metrics import mean_squared_log_error\n",
    "import matplotlib.pyplot as plt"
   ]
  },
  {
   "cell_type": "code",
   "execution_count": 111,
   "metadata": {},
   "outputs": [],
   "source": [
    "df = pd.read_csv('mydata/movie/train.csv', index_col='id')"
   ]
  },
  {
   "cell_type": "code",
   "execution_count": 112,
   "metadata": {},
   "outputs": [
    {
     "data": {
      "text/html": [
       "<div>\n",
       "<style scoped>\n",
       "    .dataframe tbody tr th:only-of-type {\n",
       "        vertical-align: middle;\n",
       "    }\n",
       "\n",
       "    .dataframe tbody tr th {\n",
       "        vertical-align: top;\n",
       "    }\n",
       "\n",
       "    .dataframe thead th {\n",
       "        text-align: right;\n",
       "    }\n",
       "</style>\n",
       "<table border=\"1\" class=\"dataframe\">\n",
       "  <thead>\n",
       "    <tr style=\"text-align: right;\">\n",
       "      <th></th>\n",
       "      <th>budget</th>\n",
       "      <th>popularity</th>\n",
       "      <th>runtime</th>\n",
       "      <th>revenue</th>\n",
       "    </tr>\n",
       "  </thead>\n",
       "  <tbody>\n",
       "    <tr>\n",
       "      <th>count</th>\n",
       "      <td>3.000000e+03</td>\n",
       "      <td>3000.000000</td>\n",
       "      <td>2998.000000</td>\n",
       "      <td>3.000000e+03</td>\n",
       "    </tr>\n",
       "    <tr>\n",
       "      <th>mean</th>\n",
       "      <td>2.253133e+07</td>\n",
       "      <td>8.463274</td>\n",
       "      <td>107.856571</td>\n",
       "      <td>6.672585e+07</td>\n",
       "    </tr>\n",
       "    <tr>\n",
       "      <th>std</th>\n",
       "      <td>3.702609e+07</td>\n",
       "      <td>12.104000</td>\n",
       "      <td>22.086434</td>\n",
       "      <td>1.375323e+08</td>\n",
       "    </tr>\n",
       "    <tr>\n",
       "      <th>min</th>\n",
       "      <td>0.000000e+00</td>\n",
       "      <td>0.000001</td>\n",
       "      <td>0.000000</td>\n",
       "      <td>1.000000e+00</td>\n",
       "    </tr>\n",
       "    <tr>\n",
       "      <th>25%</th>\n",
       "      <td>0.000000e+00</td>\n",
       "      <td>4.018053</td>\n",
       "      <td>94.000000</td>\n",
       "      <td>2.379808e+06</td>\n",
       "    </tr>\n",
       "    <tr>\n",
       "      <th>50%</th>\n",
       "      <td>8.000000e+06</td>\n",
       "      <td>7.374861</td>\n",
       "      <td>104.000000</td>\n",
       "      <td>1.680707e+07</td>\n",
       "    </tr>\n",
       "    <tr>\n",
       "      <th>75%</th>\n",
       "      <td>2.900000e+07</td>\n",
       "      <td>10.890983</td>\n",
       "      <td>118.000000</td>\n",
       "      <td>6.891920e+07</td>\n",
       "    </tr>\n",
       "    <tr>\n",
       "      <th>max</th>\n",
       "      <td>3.800000e+08</td>\n",
       "      <td>294.337037</td>\n",
       "      <td>338.000000</td>\n",
       "      <td>1.519558e+09</td>\n",
       "    </tr>\n",
       "  </tbody>\n",
       "</table>\n",
       "</div>"
      ],
      "text/plain": [
       "             budget   popularity      runtime       revenue\n",
       "count  3.000000e+03  3000.000000  2998.000000  3.000000e+03\n",
       "mean   2.253133e+07     8.463274   107.856571  6.672585e+07\n",
       "std    3.702609e+07    12.104000    22.086434  1.375323e+08\n",
       "min    0.000000e+00     0.000001     0.000000  1.000000e+00\n",
       "25%    0.000000e+00     4.018053    94.000000  2.379808e+06\n",
       "50%    8.000000e+06     7.374861   104.000000  1.680707e+07\n",
       "75%    2.900000e+07    10.890983   118.000000  6.891920e+07\n",
       "max    3.800000e+08   294.337037   338.000000  1.519558e+09"
      ]
     },
     "execution_count": 112,
     "metadata": {},
     "output_type": "execute_result"
    }
   ],
   "source": [
    "#look at numeric data\n",
    "df.describe()"
   ]
  },
  {
   "cell_type": "markdown",
   "metadata": {},
   "source": [
    "Insights: 1) Budget=0 and runtime=0 is not possible"
   ]
  },
  {
   "cell_type": "code",
   "execution_count": 113,
   "metadata": {},
   "outputs": [
    {
     "data": {
      "text/plain": [
       "revenue                     0\n",
       "release_date                0\n",
       "status                      0\n",
       "original_title              0\n",
       "original_language           0\n",
       "popularity                  0\n",
       "budget                      0\n",
       "imdb_id                     0\n",
       "title                       0\n",
       "poster_path                 1\n",
       "runtime                     2\n",
       "genres                      7\n",
       "overview                    8\n",
       "cast                       13\n",
       "crew                       16\n",
       "spoken_languages           20\n",
       "production_countries       55\n",
       "production_companies      156\n",
       "Keywords                  276\n",
       "tagline                   597\n",
       "homepage                 2054\n",
       "belongs_to_collection    2396\n",
       "dtype: int64"
      ]
     },
     "execution_count": 113,
     "metadata": {},
     "output_type": "execute_result"
    }
   ],
   "source": [
    "#check missing data\n",
    "df.isna().sum().sort_values()"
   ]
  },
  {
   "cell_type": "code",
   "execution_count": 114,
   "metadata": {},
   "outputs": [],
   "source": [
    "#fix missing data and =0 for numeric features\n",
    "numerics = ['int16', 'int32', 'int64', 'float16', 'float32', 'float64']\n",
    "for column in df.select_dtypes(include=numerics).columns:\n",
    "    df[column].replace(np.nan, df[column].median(), inplace=True)\n",
    "\n",
    "df.loc[df.budget==0, \"budget\"] = df.budget.median()\n",
    "df.loc[df.runtime==0,\"runtime\"] = df.runtime.median()"
   ]
  },
  {
   "cell_type": "code",
   "execution_count": 115,
   "metadata": {},
   "outputs": [
    {
     "name": "stderr",
     "output_type": "stream",
     "text": [
      "C:\\Users\\FArnold\\AppData\\Local\\Continuum\\anaconda3\\lib\\site-packages\\ipykernel_launcher.py:6: SettingWithCopyWarning: modifications to a property of a datetimelike object are not supported and are discarded. Change values on the original.\n",
      "  \n",
      "C:\\Users\\FArnold\\AppData\\Local\\Continuum\\anaconda3\\lib\\site-packages\\pandas\\core\\generic.py:7620: SettingWithCopyWarning: modifications to a property of a datetimelike object are not supported and are discarded. Change values on the original.\n",
      "  self._update_inplace(new_data)\n"
     ]
    },
    {
     "data": {
      "image/png": "[encoded data removed]",
      "text/plain": [
       "<Figure size 432x288 with 1 Axes>"
      ]
     },
     "metadata": {},
     "output_type": "display_data"
    },
    {
     "data": {
      "image/png": "[encoded data removed]",
      "text/plain": [
       "<Figure size 432x288 with 1 Axes>"
      ]
     },
     "metadata": {},
     "output_type": "display_data"
    }
   ],
   "source": [
    "#analyse release date\n",
    "releaseDate = pd.to_datetime(df['release_date']) \n",
    "df[\"day\"] = releaseDate.dt.dayofweek\n",
    "year = releaseDate.dt.year\n",
    "#some years are >2020 --> subtract 100\n",
    "year[year>2020] = year[year>2020]-100\n",
    "\n",
    "df.groupby(\"day\").revenue.mean().plot()\n",
    "plt.show()\n",
    "df.groupby(\"day\").day.count().plot()\n",
    "plt.show()"
   ]
  },
  {
   "cell_type": "markdown",
   "metadata": {},
   "source": [
    "Insight: Revenue on movies releases Friday to Saturday is lower"
   ]
  },
  {
   "cell_type": "code",
   "execution_count": 116,
   "metadata": {},
   "outputs": [],
   "source": [
    "#construct new feature for weekends and age\n",
    "df[\"releasedOnWeekend\"] = df[\"day\"] >=4\n",
    "df[\"Age\"] = year.max() - year"
   ]
  },
  {
   "cell_type": "code",
   "execution_count": 117,
   "metadata": {},
   "outputs": [
    {
     "name": "stderr",
     "output_type": "stream",
     "text": [
      "C:\\Users\\FArnold\\AppData\\Local\\Continuum\\anaconda3\\lib\\site-packages\\ipykernel_launcher.py:4: UserWarning: Pandas doesn't allow columns to be created via a new attribute name - see https://pandas.pydata.org/pandas-docs/stable/indexing.html#attribute-access\n",
      "  after removing the cwd from sys.path.\n",
      "C:\\Users\\FArnold\\AppData\\Local\\Continuum\\anaconda3\\lib\\site-packages\\numpy\\core\\fromnumeric.py:3194: RuntimeWarning: Degrees of freedom <= 0 for slice\n",
      "  **kwargs)\n",
      "C:\\Users\\FArnold\\AppData\\Local\\Continuum\\anaconda3\\lib\\site-packages\\numpy\\core\\_methods.py:127: RuntimeWarning: invalid value encountered in double_scalars\n",
      "  ret = ret.dtype.type(ret / rcount)\n",
      "C:\\Users\\FArnold\\AppData\\Local\\Continuum\\anaconda3\\lib\\site-packages\\scipy\\stats\\_distn_infrastructure.py:879: RuntimeWarning: invalid value encountered in greater\n",
      "  return (self.a < x) & (x < self.b)\n",
      "C:\\Users\\FArnold\\AppData\\Local\\Continuum\\anaconda3\\lib\\site-packages\\scipy\\stats\\_distn_infrastructure.py:879: RuntimeWarning: invalid value encountered in less\n",
      "  return (self.a < x) & (x < self.b)\n",
      "C:\\Users\\FArnold\\AppData\\Local\\Continuum\\anaconda3\\lib\\site-packages\\scipy\\stats\\_distn_infrastructure.py:1821: RuntimeWarning: invalid value encountered in less_equal\n",
      "  cond2 = cond0 & (x <= self.a)\n"
     ]
    }
   ],
   "source": [
    "#analyse Genres\n",
    "#idea: construct binary features of those genres with mean revenue significantly different from average revenue\n",
    "#1) create list of all mentioned genres\n",
    "df.genresList = df.genres.str.strip('[]')\n",
    "df.genresList[df.genresList.isnull()] = ''\n",
    "genres_list = pd.Series(list(set(\", \".join(df.genresList.unique().tolist()).split('}, ')))).str.split(\"'name': '\").str[1].str.split(\"'\").str[0].tolist()\n",
    "#2) create a dataframe with each genre as binary feature\n",
    "gFrame = pd.DataFrame()\n",
    "for genre in genres_list:\n",
    "    gFrame[genre] = df.genres.str.contains(genre)\n",
    "gFrame[\"revenue\"] = df.revenue\n",
    "    \n",
    "#3) do a t-test to find genres with a significant differences\n",
    "from scipy.stats import ttest_ind\n",
    "tFrame = pd.DataFrame(columns=[\"genre\",\"tValue\", \"count\"])\n",
    "for genre in genres_list:\n",
    "    testYes = gFrame.loc[gFrame[genre] == True, \"revenue\"]\n",
    "    testNo = gFrame.loc[gFrame[genre] == False, \"revenue\"]\n",
    "    t, p = ttest_ind(testYes, testNo, equal_var=False)\n",
    "    tFrame.loc[tFrame.shape[0]] = [genre, p, len(testYes)]\n",
    "    \n",
    "#4) select all genres with at least 100 occurences and a significant t-test (p<0.01)\n",
    "significantGenres = tFrame.loc[(tFrame[\"tValue\"]<0.01) & (tFrame[\"count\"]>100), \"genre\"].tolist()\n",
    "\n",
    "#5) create binary features for these genres\n",
    "gFrame.drop((g for g in genres_list if g not in significantGenres), inplace=True, axis=1)\n",
    "gFrame.drop(\"revenue\", inplace=True, axis=1)\n",
    "gFrame = gFrame.fillna(False)"
   ]
  },
  {
   "cell_type": "code",
   "execution_count": 118,
   "metadata": {},
   "outputs": [
    {
     "name": "stderr",
     "output_type": "stream",
     "text": [
      "C:\\Users\\FArnold\\AppData\\Local\\Continuum\\anaconda3\\lib\\site-packages\\ipykernel_launcher.py:4: SettingWithCopyWarning: \n",
      "A value is trying to be set on a copy of a slice from a DataFrame\n",
      "\n",
      "See the caveats in the documentation: http://pandas.pydata.org/pandas-docs/stable/indexing.html#indexing-view-versus-copy\n",
      "  after removing the cwd from sys.path.\n"
     ]
    },
    {
     "data": {
      "text/plain": [
       "hasStar\n",
       "0    2.704577e+07\n",
       "1    9.073771e+07\n",
       "Name: revenue, dtype: float64"
      ]
     },
     "execution_count": 118,
     "metadata": {},
     "output_type": "execute_result"
    }
   ],
   "source": [
    "#analyse cast\n",
    "#idea: construct a binary feature of whether a movie contains a \"star\" \n",
    "#a star is defined as an actor that appeared in 10 or more movies\n",
    "df.cast[df.cast.isnull()] = ''\n",
    "castList = df.cast.str.strip('[]')\n",
    "listOfallActors = pd.Series(pd.Series(list(\", \".join(castList.unique().tolist()).split('}, '))).str.split(\"'name': '\").str[1].str.split(\"'\").str[0].tolist())\n",
    "\n",
    "allActors = listOfallActors.value_counts()\n",
    "topActors = allActors[allActors>=10].index\n",
    "\n",
    "df['hasStar'] = df.cast.apply(lambda row: 1 if any(act in row for act in topActors) else 0)\n",
    "df.groupby(\"hasStar\").revenue.mean()"
   ]
  },
  {
   "cell_type": "markdown",
   "metadata": {},
   "source": [
    "Insight: Movies with a star have significantly more revenue"
   ]
  },
  {
   "cell_type": "code",
   "execution_count": 119,
   "metadata": {},
   "outputs": [
    {
     "data": {
      "text/plain": [
       "hashomepage\n",
       "False    4.216585e+07\n",
       "True     1.200517e+08\n",
       "Name: revenue, dtype: float64"
      ]
     },
     "execution_count": 119,
     "metadata": {},
     "output_type": "execute_result"
    }
   ],
   "source": [
    "#Feature homepage\n",
    "df[\"hashomepage\"] = ~(df[\"homepage\"].isna())\n",
    "df.groupby(\"hashomepage\").revenue.mean()"
   ]
  },
  {
   "cell_type": "markdown",
   "metadata": {},
   "source": [
    "Finding: Movies with a hompage have a higher revenue"
   ]
  },
  {
   "cell_type": "code",
   "execution_count": 120,
   "metadata": {},
   "outputs": [
    {
     "data": {
      "text/plain": [
       "isinCollection\n",
       "False    4.329159e+07\n",
       "True     1.596869e+08\n",
       "Name: revenue, dtype: float64"
      ]
     },
     "execution_count": 120,
     "metadata": {},
     "output_type": "execute_result"
    }
   ],
   "source": [
    "#Feature belons to collection\n",
    "df[\"isinCollection\"] = ~(df[\"belongs_to_collection\"].isna())\n",
    "df.groupby(\"isinCollection\").revenue.mean()"
   ]
  },
  {
   "cell_type": "code",
   "execution_count": null,
   "metadata": {},
   "outputs": [],
   "source": []
  },
  {
   "cell_type": "markdown",
   "metadata": {},
   "source": [
    "Finding: Movies that are part of a collection have a higher revenue"
   ]
  },
  {
   "cell_type": "code",
   "execution_count": 121,
   "metadata": {},
   "outputs": [
    {
     "name": "stderr",
     "output_type": "stream",
     "text": [
      "C:\\Users\\FArnold\\AppData\\Local\\Continuum\\anaconda3\\lib\\site-packages\\pandas\\core\\series.py:841: FutureWarning: \n",
      "Passing list-likes to .loc or [] with any missing label will raise\n",
      "KeyError in the future, you can use .reindex() as an alternative.\n",
      "\n",
      "See the documentation here:\n",
      "https://pandas.pydata.org/pandas-docs/stable/indexing.html#deprecate-loc-reindex-listlike\n",
      "  return self.loc[key]\n"
     ]
    }
   ],
   "source": [
    "#normalize the budget\n",
    "budgetPerYear = df.groupby(releaseDate.dt.year).budget.mean()\n",
    "yearBudget = budgetPerYear[year]\n",
    "df[\"normalizedBudget\"] = df[\"budget\"].div(yearBudget.values)\n",
    "df[\"normalizedBudget\"]= df[\"normalizedBudget\"].fillna(1)"
   ]
  },
  {
   "cell_type": "code",
   "execution_count": 122,
   "metadata": {},
   "outputs": [
    {
     "data": {
      "text/html": [
       "<div>\n",
       "<style scoped>\n",
       "    .dataframe tbody tr th:only-of-type {\n",
       "        vertical-align: middle;\n",
       "    }\n",
       "\n",
       "    .dataframe tbody tr th {\n",
       "        vertical-align: top;\n",
       "    }\n",
       "\n",
       "    .dataframe thead th {\n",
       "        text-align: right;\n",
       "    }\n",
       "</style>\n",
       "<table border=\"1\" class=\"dataframe\">\n",
       "  <thead>\n",
       "    <tr style=\"text-align: right;\">\n",
       "      <th></th>\n",
       "      <th>budgetlog</th>\n",
       "      <th>normalizedBudget</th>\n",
       "      <th>popularitylog</th>\n",
       "      <th>runtime</th>\n",
       "      <th>releasedOnWeekend</th>\n",
       "      <th>Age</th>\n",
       "      <th>hasStar</th>\n",
       "      <th>hashomepage</th>\n",
       "      <th>isinCollection</th>\n",
       "      <th>Drama</th>\n",
       "      <th>Fantasy</th>\n",
       "      <th>Family</th>\n",
       "      <th>History</th>\n",
       "      <th>Adventure</th>\n",
       "      <th>Animation</th>\n",
       "      <th>Science Fiction</th>\n",
       "      <th>Horror</th>\n",
       "      <th>Action</th>\n",
       "      <th>Romance</th>\n",
       "    </tr>\n",
       "    <tr>\n",
       "      <th>id</th>\n",
       "      <th></th>\n",
       "      <th></th>\n",
       "      <th></th>\n",
       "      <th></th>\n",
       "      <th></th>\n",
       "      <th></th>\n",
       "      <th></th>\n",
       "      <th></th>\n",
       "      <th></th>\n",
       "      <th></th>\n",
       "      <th></th>\n",
       "      <th></th>\n",
       "      <th></th>\n",
       "      <th></th>\n",
       "      <th></th>\n",
       "      <th></th>\n",
       "      <th></th>\n",
       "      <th></th>\n",
       "      <th></th>\n",
       "    </tr>\n",
       "  </thead>\n",
       "  <tbody>\n",
       "    <tr>\n",
       "      <th>1</th>\n",
       "      <td>16.454568</td>\n",
       "      <td>0.435821</td>\n",
       "      <td>2.024905</td>\n",
       "      <td>93.0</td>\n",
       "      <td>True</td>\n",
       "      <td>2</td>\n",
       "      <td>1</td>\n",
       "      <td>False</td>\n",
       "      <td>True</td>\n",
       "      <td>False</td>\n",
       "      <td>False</td>\n",
       "      <td>False</td>\n",
       "      <td>False</td>\n",
       "      <td>False</td>\n",
       "      <td>False</td>\n",
       "      <td>False</td>\n",
       "      <td>False</td>\n",
       "      <td>False</td>\n",
       "      <td>False</td>\n",
       "    </tr>\n",
       "    <tr>\n",
       "      <th>2</th>\n",
       "      <td>17.504390</td>\n",
       "      <td>1.184914</td>\n",
       "      <td>2.224504</td>\n",
       "      <td>113.0</td>\n",
       "      <td>True</td>\n",
       "      <td>13</td>\n",
       "      <td>0</td>\n",
       "      <td>False</td>\n",
       "      <td>True</td>\n",
       "      <td>True</td>\n",
       "      <td>False</td>\n",
       "      <td>True</td>\n",
       "      <td>False</td>\n",
       "      <td>False</td>\n",
       "      <td>False</td>\n",
       "      <td>False</td>\n",
       "      <td>False</td>\n",
       "      <td>False</td>\n",
       "      <td>True</td>\n",
       "    </tr>\n",
       "  </tbody>\n",
       "</table>\n",
       "</div>"
      ],
      "text/plain": [
       "    budgetlog  normalizedBudget  popularitylog  runtime  releasedOnWeekend  \\\n",
       "id                                                                           \n",
       "1   16.454568          0.435821       2.024905     93.0               True   \n",
       "2   17.504390          1.184914       2.224504    113.0               True   \n",
       "\n",
       "    Age  hasStar  hashomepage  isinCollection  Drama  Fantasy  Family  \\\n",
       "id                                                                      \n",
       "1     2        1        False            True  False    False   False   \n",
       "2    13        0        False            True   True    False    True   \n",
       "\n",
       "    History  Adventure  Animation  Science Fiction  Horror  Action  Romance  \n",
       "id                                                                           \n",
       "1     False      False      False            False   False   False    False  \n",
       "2     False      False      False            False   False   False     True  "
      ]
     },
     "execution_count": 122,
     "metadata": {},
     "output_type": "execute_result"
    }
   ],
   "source": [
    "#construct the dataframe for all features\n",
    "target = df[\"revenue\"]\n",
    "df[\"budgetlog\"] = np.log1p(df[\"budget\"])\n",
    "df[\"popularitylog\"] = np.log1p(df[\"popularity\"])\n",
    "#usedfeatures = ['budgetlog', 'popularitylog', 'runtime', 'releasedOnWeekend', 'Age','hasStar', \"hashomepage\", \"isinCollection\"]\n",
    "usedfeatures = ['budgetlog', \"normalizedBudget\", 'popularitylog', 'runtime', 'releasedOnWeekend', 'Age','hasStar', \"hashomepage\", \"isinCollection\"]\n",
    "features = df[usedfeatures]\n",
    "features = features.merge(gFrame, on=['id'], how='left')\n",
    "features.head(2)"
   ]
  },
  {
   "cell_type": "code",
   "execution_count": 123,
   "metadata": {},
   "outputs": [
    {
     "name": "stdout",
     "output_type": "stream",
     "text": [
      "Coefficients %n [ 0.56315675  0.15419511  1.37897111  0.01880221  0.06778496  0.01871888\n",
      "  0.38710607  0.26985961  0.78634436 -0.33945547 -0.11475987  0.6000318\n",
      " -0.01637266  0.15123388  0.43508816 -0.07699976  0.20719493  0.13155788\n",
      "  0.50714157]\n",
      "Coefficients %n [ 0.58221275  0.17209478  1.37115794  0.01482701  0.04710801  0.01976632\n",
      "  0.45645846  0.22957211  0.74440928 -0.36171359 -0.08791225  0.71141012\n",
      " -0.05728311  0.09890907  0.0710443  -0.0735967   0.24332562  0.15322581\n",
      "  0.43345766]\n",
      "Coefficients %n [ 0.49165594  0.20381543  1.33889336  0.0149318   0.027768    0.01976905\n",
      "  0.5113542   0.30473528  0.75644267 -0.29472926  0.00873648  0.71870308\n",
      "  0.08210163  0.09958859  0.12124121 -0.1120229   0.30675143  0.10198873\n",
      "  0.45046477]\n",
      "Coefficients %n [ 0.46607008  0.22603439  1.3116436   0.01509531  0.00642726  0.01920862\n",
      "  0.52801895  0.234179    0.74656761 -0.31733968 -0.03268621  0.62052019\n",
      "  0.12132754  0.11617969  0.1783507  -0.04497746  0.15988487  0.07902367\n",
      "  0.27685768]\n",
      "Coefficients %n [ 0.5212093   0.19205374  1.34411892  0.01522178  0.03028179  0.01918591\n",
      "  0.5454956   0.12952497  0.89561329 -0.35707779 -0.08005183  0.75282425\n",
      "  0.01843358  0.16294777  0.08470214 -0.1677122   0.24456188  0.09284632\n",
      "  0.44448133]\n",
      "Coefficients %n [ 0.55284203  0.12840296  1.34365801  0.01729127  0.05611612  0.01919017\n",
      "  0.56750221  0.16943903  0.73682607 -0.34216483 -0.02944072  0.69555459\n",
      " -0.12570228  0.19054794  0.27870723 -0.10974471  0.26518052  0.13762756\n",
      "  0.39946862]\n",
      "Coefficients %n [ 0.61063181  0.12347822  1.27384859  0.01699492  0.10994335  0.02218408\n",
      "  0.43500688  0.27675864  0.8433407  -0.35198674 -0.11132762  0.58862264\n",
      " -0.17969743  0.16550866  0.08210695 -0.17264403  0.28721573  0.22634467\n",
      "  0.44500343]\n",
      "Coefficients %n [ 0.55274232  0.17648109  1.36395731  0.01611599  0.08550693  0.01788711\n",
      "  0.45158181  0.15603181  0.74012222 -0.36180004 -0.11450466  0.68220611\n",
      "  0.17602262  0.11722273  0.28431058 -0.19874165  0.37540375  0.17463718\n",
      "  0.45718802]\n",
      "Coefficients %n [ 0.58434067  0.15895088  1.36530177  0.0138277   0.10223077  0.02176765\n",
      "  0.39078248  0.28411642  0.8328634  -0.31099041 -0.11808446  0.66862176\n",
      "  0.12434977  0.14054187  0.15081316  0.01148816  0.22931029  0.10720488\n",
      "  0.41197244]\n",
      "Coefficients %n [ 0.54395863  0.14896915  1.39060603  0.01957292  0.09655252  0.0178153\n",
      "  0.49090313  0.14510652  0.7066579  -0.39100074 -0.04914301  0.76395576\n",
      " -0.0947848   0.16142766  0.06333469 -0.07692318  0.22529675  0.15395482\n",
      "  0.42071117]\n"
     ]
    },
    {
     "data": {
      "text/plain": [
       "2.259858583592308"
      ]
     },
     "execution_count": 123,
     "metadata": {},
     "output_type": "execute_result"
    }
   ],
   "source": [
    "#build a regression model\n",
    "def average(list):\n",
    "    return sum(list)/len(list)\n",
    "\n",
    "results = []\n",
    "for x in range(10):\n",
    "    X_train, X_test, y_train, y_test = train_test_split(features, target, test_size=0.20, random_state=x)\n",
    "    reg = LinearRegression()\n",
    "    reg.fit(X_train, np.log1p(y_train))\n",
    "    y_pred = np.exp(reg.predict(X_test))-1\n",
    "    eval = np.sqrt(mean_squared_log_error(y_pred, y_test))\n",
    "    print(\"Coefficients %n\" , reg.coef_)\n",
    "    results.append(eval)\n",
    "    #reg.get_params()\n",
    "\n",
    "average(results)"
   ]
  },
  {
   "cell_type": "code",
   "execution_count": null,
   "metadata": {},
   "outputs": [],
   "source": []
  },
  {
   "cell_type": "code",
   "execution_count": null,
   "metadata": {},
   "outputs": [],
   "source": []
  },
  {
   "cell_type": "code",
   "execution_count": null,
   "metadata": {},
   "outputs": [],
   "source": []
  }
 ],
 "metadata": {
  "kernelspec": {
   "display_name": "Python 3",
   "language": "python",
   "name": "python3"
  },
  "language_info": {
   "codemirror_mode": {
    "name": "ipython",
    "version": 3
   },
   "file_extension": ".py",
   "mimetype": "text/x-python",
   "name": "python",
   "nbconvert_exporter": "python",
   "pygments_lexer": "ipython3",
   "version": "3.6.5"
  }
 },
 "nbformat": 4,
 "nbformat_minor": 2
}
